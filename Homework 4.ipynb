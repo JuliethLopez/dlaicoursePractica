{
  "nbformat": 4,
  "nbformat_minor": 0,
  "metadata": {
    "kernelspec": {
      "display_name": "Python 3",
      "language": "python",
      "name": "python3"
    },
    "language_info": {
      "codemirror_mode": {
        "name": "ipython",
        "version": 3
      },
      "file_extension": ".py",
      "mimetype": "text/x-python",
      "name": "python",
      "nbconvert_exporter": "python",
      "pygments_lexer": "ipython3",
      "version": "3.7.4"
    },
    "colab": {
      "name": "Homework 4.ipynb",
      "provenance": []
    },
    "accelerator": "GPU"
  },
  "cells": [
    {
      "cell_type": "markdown",
      "metadata": {
        "id": "mJrjzdtIf0ms",
        "colab_type": "text"
      },
      "source": [
        "<a href=\"https://colab.research.google.com/github/JuliethLopez/dlaicoursePractica/blob/master/Homework%204.ipynb\" target=\"_parent\"><img src=\"https://colab.research.google.com/assets/colab-badge.svg\" alt=\"Open In Colab\"/></a>"
      ]
    },
    {
      "cell_type": "markdown",
      "metadata": {
        "id": "zZvj3YOvf0my",
        "colab_type": "text"
      },
      "source": [
        "## Exercise 4\n",
        "\n",
        "Below is code with a link to a happy or sad dataset which contains 80 images, 40 happy and 40 sad. Create a convolutional neural network that trains to 100% accuracy on these images, which cancels training upon hitting training accuracy of >.999\n",
        "\n",
        "Hint -- it will work best with 3 convolutional layers."
      ]
    },
    {
      "cell_type": "code",
      "metadata": {
        "id": "vQDDS935gD6H",
        "colab_type": "code",
        "colab": {
          "base_uri": "https://localhost:8080/",
          "height": 223
        },
        "outputId": "9262df0e-55b9-4e83-f25a-b7a702714683"
      },
      "source": [
        "import tensorflow as tf\n",
        "import os\n",
        "import zipfile\n",
        "\n",
        "\n",
        "DESIRED_ACCURACY = 0.999\n",
        "\n",
        "!wget --no-check-certificate \\\n",
        "    \"https://storage.googleapis.com/laurencemoroney-blog.appspot.com/happy-or-sad.zip\" \\\n",
        "    -O \"/tmp/happy-or-sad.zip\"\n",
        "\n",
        "zip_ref = zipfile.ZipFile(\"/tmp/happy-or-sad.zip\", 'r')\n",
        "zip_ref.extractall(\"/tmp/h-or-s\")\n",
        "zip_ref.close()"
      ],
      "execution_count": 10,
      "outputs": [
        {
          "output_type": "stream",
          "text": [
            "--2020-06-07 20:56:01--  https://storage.googleapis.com/laurencemoroney-blog.appspot.com/happy-or-sad.zip\n",
            "Resolving storage.googleapis.com (storage.googleapis.com)... 74.125.128.128, 2a00:1450:4013:c02::80\n",
            "Connecting to storage.googleapis.com (storage.googleapis.com)|74.125.128.128|:443... connected.\n",
            "HTTP request sent, awaiting response... 200 OK\n",
            "Length: 2670333 (2.5M) [application/zip]\n",
            "Saving to: ‘/tmp/happy-or-sad.zip’\n",
            "\n",
            "\r/tmp/happy-or-sad.z   0%[                    ]       0  --.-KB/s               \r/tmp/happy-or-sad.z 100%[===================>]   2.55M  --.-KB/s    in 0.01s   \n",
            "\n",
            "2020-06-07 20:56:01 (238 MB/s) - ‘/tmp/happy-or-sad.zip’ saved [2670333/2670333]\n",
            "\n"
          ],
          "name": "stdout"
        }
      ]
    },
    {
      "cell_type": "code",
      "metadata": {
        "id": "JCkysierf0m3",
        "colab_type": "code",
        "colab": {}
      },
      "source": [
        "import tensorflow as tf\n",
        "\n",
        "def happy_sad_train ():\n",
        "  class myCallback(tf.keras.callbacks.Callback):# Your Code\n",
        "  # Your Code\n",
        "    def on_epoch_end(self,epoch,logs={}):\n",
        "      if(logs.get('accuracy')>DESIRED_ACCURACY):\n",
        "        print('\\nAccuracy has reached 99.9%')\n",
        "        self.model.stop_training=True\n",
        "\n",
        "  callbacks = myCallback()\n",
        "\n",
        "  # This Code Block should Define and Compile the Model\n",
        "  model = tf.keras.models.Sequential([\n",
        "  # Your Code Here\n",
        "    tf.keras.layers.Conv2D(16,(3,3),activation='relu',input_shape=(150,150,3)),\n",
        "    tf.keras.layers.MaxPooling2D(2,2),\n",
        "    tf.keras.layers.Conv2D(32,(3,3),activation='relu'),\n",
        "    tf.keras.layers.MaxPooling2D(2,2),\n",
        "    tf.keras.layers.Conv2D(64,(3,3),activation='relu'),\n",
        "    tf.keras.layers.MaxPooling2D(2,2),\n",
        "    tf.keras.layers.Flatten(),\n",
        "    tf.keras.layers.Dense(514,activation='relu'),\n",
        "    tf.keras.layers.Dense(1,activation='sigmoid')\n",
        "  ])\n",
        "\n",
        "  from tensorflow.keras.optimizers import RMSprop\n",
        "\n",
        "  model.compile(# Your Code Here #\n",
        "                loss='binary_crossentropy',optimizer=RMSprop(lr=0.001),metrics=['accuracy'])                \n",
        "\n",
        "  # This code block should create an instance of an ImageDataGenerator called train_datagen \n",
        "  # And a train_generator by calling train_datagen.flow_from_directory\n",
        "\n",
        "  from tensorflow.keras.preprocessing.image import ImageDataGenerator\n",
        "\n",
        "  train_datagen = ImageDataGenerator(rescale=1./255)# Your Code Here\n",
        "\n",
        "  train_generator = train_datagen.flow_from_directory(\n",
        "          # Your Code Here\n",
        "          \"/tmp/h-or-s\",\n",
        "          target_size=(150,150),\n",
        "          batch_size=1,\n",
        "          class_mode='binary'\n",
        "          )\n",
        "\n",
        "  # Expected output: 'Found 80 images belonging to 2 classes'\n",
        "\n",
        "  # This code block should call model.fit and train for\n",
        "  # a number of epochs. \n",
        "  history = model.fit(\n",
        "        # Your Code Here\n",
        "        train_generator,\n",
        "        steps_per_epoch=40,\n",
        "        epochs=80,\n",
        "        verbose=1,\n",
        "        callbacks=[callbacks])\n",
        "      \n",
        "  # Expected output: \"Reached 99.9% accuracy so cancelling training!\"\"\n",
        "  \n",
        "  return history.history['accuracy'][-1]\n"
      ],
      "execution_count": 0,
      "outputs": []
    },
    {
      "cell_type": "code",
      "metadata": {
        "id": "DZYD6ZG9f0nt",
        "colab_type": "code",
        "colab": {
          "base_uri": "https://localhost:8080/",
          "height": 392
        },
        "outputId": "01ebe668-8c06-473e-fd49-babb4ca9e238"
      },
      "source": [
        "happy_sad_train ()"
      ],
      "execution_count": 18,
      "outputs": [
        {
          "output_type": "stream",
          "text": [
            "Found 80 images belonging to 2 classes.\n",
            "Epoch 1/80\n",
            "40/40 [==============================] - 0s 5ms/step - loss: 1.7614 - accuracy: 0.5750\n",
            "Epoch 2/80\n",
            "40/40 [==============================] - 0s 5ms/step - loss: 0.8305 - accuracy: 0.6750\n",
            "Epoch 3/80\n",
            "40/40 [==============================] - 0s 5ms/step - loss: 0.4058 - accuracy: 0.8250\n",
            "Epoch 4/80\n",
            "40/40 [==============================] - 0s 5ms/step - loss: 0.3325 - accuracy: 0.8750\n",
            "Epoch 5/80\n",
            "40/40 [==============================] - 0s 5ms/step - loss: 0.2848 - accuracy: 0.9000\n",
            "Epoch 6/80\n",
            "40/40 [==============================] - 0s 5ms/step - loss: 0.1126 - accuracy: 0.9000\n",
            "Epoch 7/80\n",
            "40/40 [==============================] - 0s 6ms/step - loss: 0.0841 - accuracy: 0.9500\n",
            "Epoch 8/80\n",
            "37/40 [==========================>...] - ETA: 0s - loss: 0.0046 - accuracy: 1.0000\n",
            "Accuracy has reached 99.9%\n",
            "40/40 [==============================] - 0s 6ms/step - loss: 0.0043 - accuracy: 1.0000\n"
          ],
          "name": "stdout"
        },
        {
          "output_type": "execute_result",
          "data": {
            "text/plain": [
              "1.0"
            ]
          },
          "metadata": {
            "tags": []
          },
          "execution_count": 18
        }
      ]
    },
    {
      "cell_type": "code",
      "metadata": {
        "id": "UWDEmbeFj65c",
        "colab_type": "code",
        "colab": {}
      },
      "source": [
        ""
      ],
      "execution_count": 0,
      "outputs": []
    }
  ]
}