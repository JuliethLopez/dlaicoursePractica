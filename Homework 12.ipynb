{
  "nbformat": 4,
  "nbformat_minor": 0,
  "metadata": {
    "accelerator": "GPU",
    "colab": {
      "name": "Homework 12.ipynb",
      "provenance": [],
      "collapsed_sections": [],
      "toc_visible": true,
      "include_colab_link": true
    },
    "kernelspec": {
      "display_name": "Python 3",
      "name": "python3"
    }
  },
  "cells": [
    {
      "cell_type": "markdown",
      "metadata": {
        "id": "view-in-github",
        "colab_type": "text"
      },
      "source": [
        "<a href=\"https://colab.research.google.com/github/JuliethLopez/dlaicoursePractica/blob/master/Homework%2012.ipynb\" target=\"_parent\"><img src=\"https://colab.research.google.com/assets/colab-badge.svg\" alt=\"Open In Colab\"/></a>"
      ]
    },
    {
      "cell_type": "markdown",
      "metadata": {
        "id": "641JKjdzUwK-",
        "colab_type": "text"
      },
      "source": [
        "In this workbook we use the regularizer l2, regularizers allow you to apply penalties on layer parameters or layer activity during optimization, basically reduce the complexity of a model by reducing the complexity of the weights, helping to reduce overfitting. These penalties are summed into the loss function that the network optimizes.\n",
        "\n",
        "The L2 regularization penalty is computed as: loss = l2 * reduce_sum(square(x))."
      ]
    },
    {
      "cell_type": "code",
      "metadata": {
        "colab_type": "code",
        "id": "BOwsuGQQY9OL",
        "colab": {}
      },
      "source": [
        "from tensorflow.keras.preprocessing.sequence import pad_sequences\n",
        "from tensorflow.keras.layers import Embedding, LSTM, Dense, Dropout, Bidirectional\n",
        "from tensorflow.keras.preprocessing.text import Tokenizer\n",
        "from tensorflow.keras.models import Sequential\n",
        "from tensorflow.keras.optimizers import Adam\n",
        "### YOUR CODE HERE\n",
        "# Figure out how to import regularizers\n",
        "from tensorflow.keras import regularizers\n",
        "###\n",
        "import tensorflow.keras.utils as ku \n",
        "import numpy as np "
      ],
      "execution_count": null,
      "outputs": []
    },
    {
      "cell_type": "code",
      "metadata": {
        "colab_type": "code",
        "id": "PRnDnCW-Z7qv",
        "colab": {
          "base_uri": "https://localhost:8080/",
          "height": 219
        },
        "outputId": "1140288a-fcf6-492d-a753-5ae7c9c17c0f"
      },
      "source": [
        "tokenizer = Tokenizer()\n",
        "!wget --no-check-certificate \\\n",
        "    https://storage.googleapis.com/laurencemoroney-blog.appspot.com/sonnets.txt \\\n",
        "    -O /tmp/sonnets.txt\n",
        "data = open('/tmp/sonnets.txt').read()\n",
        "\n",
        "corpus = data.lower().split(\"\\n\")\n",
        "\n",
        "\n",
        "tokenizer.fit_on_texts(corpus)\n",
        "total_words = len(tokenizer.word_index) + 1\n",
        "\n",
        "# create input sequences using list of tokens\n",
        "input_sequences = []\n",
        "for line in corpus:\n",
        "\ttoken_list = tokenizer.texts_to_sequences([line])[0]\n",
        "\tfor i in range(1, len(token_list)):\n",
        "\t\tn_gram_sequence = token_list[:i+1]\n",
        "\t\tinput_sequences.append(n_gram_sequence)\n",
        "\n",
        "\n",
        "# pad sequences \n",
        "max_sequence_len = max([len(x) for x in input_sequences])\n",
        "input_sequences = np.array(pad_sequences(input_sequences, maxlen=max_sequence_len, padding='pre'))\n",
        "\n",
        "# create predictors and label\n",
        "predictors, label = input_sequences[:,:-1],input_sequences[:,-1]\n",
        "\n",
        "label = ku.to_categorical(label, num_classes=total_words)"
      ],
      "execution_count": null,
      "outputs": [
        {
          "output_type": "stream",
          "text": [
            "--2020-07-28 02:07:19--  https://storage.googleapis.com/laurencemoroney-blog.appspot.com/sonnets.txt\n",
            "Resolving storage.googleapis.com (storage.googleapis.com)... 64.233.189.128, 108.177.97.128, 108.177.125.128, ...\n",
            "Connecting to storage.googleapis.com (storage.googleapis.com)|64.233.189.128|:443... connected.\n",
            "HTTP request sent, awaiting response... 200 OK\n",
            "Length: 93578 (91K) [text/plain]\n",
            "Saving to: ‘/tmp/sonnets.txt’\n",
            "\n",
            "\r/tmp/sonnets.txt      0%[                    ]       0  --.-KB/s               \r/tmp/sonnets.txt    100%[===================>]  91.38K  --.-KB/s    in 0.001s  \n",
            "\n",
            "2020-07-28 02:07:20 (63.7 MB/s) - ‘/tmp/sonnets.txt’ saved [93578/93578]\n",
            "\n"
          ],
          "name": "stdout"
        }
      ]
    },
    {
      "cell_type": "code",
      "metadata": {
        "colab_type": "code",
        "id": "w9vH8Y59ajYL",
        "colab": {
          "base_uri": "https://localhost:8080/",
          "height": 403
        },
        "outputId": "a36269b7-bcb9-47cf-c8b7-960b9c2f56d5"
      },
      "source": [
        "model = Sequential()\n",
        "model.add(Embedding(total_words, 100, input_length=max_sequence_len-1)) # Your Embedding Layer\n",
        "model.add(Bidirectional(LSTM(200, return_sequences = True))) # An LSTM Layer\n",
        "model.add(Dropout(0.1)) # A dropout layer\n",
        "model.add(LSTM(100)) # Another LSTM Layer\n",
        "model.add(Dense(total_words/2, activation='relu', kernel_regularizer=regularizers.l2(0.01))) # A Dense Layer including regularizers\n",
        "model.add(Dense(total_words, activation='softmax')) # A Dense Layer\n",
        "# Pick an optimizer\n",
        "adam=Adam(learning_rate=0.01)\n",
        "model.compile(loss='categorical_crossentropy', optimizer=adam, metrics=['accuracy']) # Pick a loss function and an optimizer\n",
        "print(model.summary())\n"
      ],
      "execution_count": null,
      "outputs": [
        {
          "output_type": "stream",
          "text": [
            "Model: \"sequential\"\n",
            "_________________________________________________________________\n",
            "Layer (type)                 Output Shape              Param #   \n",
            "=================================================================\n",
            "embedding (Embedding)        (None, 10, 100)           321100    \n",
            "_________________________________________________________________\n",
            "bidirectional (Bidirectional (None, 10, 400)           481600    \n",
            "_________________________________________________________________\n",
            "dropout (Dropout)            (None, 10, 400)           0         \n",
            "_________________________________________________________________\n",
            "lstm_1 (LSTM)                (None, 100)               200400    \n",
            "_________________________________________________________________\n",
            "dense (Dense)                (None, 1605)              162105    \n",
            "_________________________________________________________________\n",
            "dense_1 (Dense)              (None, 3211)              5156866   \n",
            "=================================================================\n",
            "Total params: 6,322,071\n",
            "Trainable params: 6,322,071\n",
            "Non-trainable params: 0\n",
            "_________________________________________________________________\n",
            "None\n"
          ],
          "name": "stdout"
        }
      ]
    },
    {
      "cell_type": "code",
      "metadata": {
        "colab_type": "code",
        "id": "AIg2f1HBxqof",
        "colab": {
          "base_uri": "https://localhost:8080/",
          "height": 1000
        },
        "outputId": "a886e5a0-0c39-422d-d322-a34fe0b83ef6"
      },
      "source": [
        " history = model.fit(predictors, label, epochs=100, verbose=1)"
      ],
      "execution_count": null,
      "outputs": [
        {
          "output_type": "stream",
          "text": [
            "Epoch 1/100\n",
            "484/484 [==============================] - 13s 27ms/step - loss: 6.9442 - accuracy: 0.0219\n",
            "Epoch 2/100\n",
            "484/484 [==============================] - 13s 27ms/step - loss: 6.5177 - accuracy: 0.0250\n",
            "Epoch 3/100\n",
            "484/484 [==============================] - 13s 27ms/step - loss: 6.4222 - accuracy: 0.0252\n",
            "Epoch 4/100\n",
            "484/484 [==============================] - 13s 27ms/step - loss: 6.3829 - accuracy: 0.0265\n",
            "Epoch 5/100\n",
            "484/484 [==============================] - 13s 27ms/step - loss: 6.3236 - accuracy: 0.0269\n",
            "Epoch 6/100\n",
            "484/484 [==============================] - 13s 27ms/step - loss: 6.2719 - accuracy: 0.0314\n",
            "Epoch 7/100\n",
            "484/484 [==============================] - 13s 27ms/step - loss: 6.2298 - accuracy: 0.0342\n",
            "Epoch 8/100\n",
            "484/484 [==============================] - 13s 27ms/step - loss: 6.1987 - accuracy: 0.0353\n",
            "Epoch 9/100\n",
            "484/484 [==============================] - 13s 27ms/step - loss: 6.1686 - accuracy: 0.0374\n",
            "Epoch 10/100\n",
            "484/484 [==============================] - 13s 27ms/step - loss: 6.1349 - accuracy: 0.0383\n",
            "Epoch 11/100\n",
            "484/484 [==============================] - 13s 27ms/step - loss: 6.1090 - accuracy: 0.0401\n",
            "Epoch 12/100\n",
            "484/484 [==============================] - 13s 28ms/step - loss: 6.0814 - accuracy: 0.0424\n",
            "Epoch 13/100\n",
            "484/484 [==============================] - 13s 27ms/step - loss: 6.0514 - accuracy: 0.0420\n",
            "Epoch 14/100\n",
            "484/484 [==============================] - 13s 27ms/step - loss: 6.0308 - accuracy: 0.0440\n",
            "Epoch 15/100\n",
            "484/484 [==============================] - 13s 27ms/step - loss: 6.0045 - accuracy: 0.0468\n",
            "Epoch 16/100\n",
            "484/484 [==============================] - 13s 27ms/step - loss: 5.9839 - accuracy: 0.0466\n",
            "Epoch 17/100\n",
            "484/484 [==============================] - 13s 27ms/step - loss: 5.9486 - accuracy: 0.0484\n",
            "Epoch 18/100\n",
            "484/484 [==============================] - 13s 27ms/step - loss: 5.9238 - accuracy: 0.0495\n",
            "Epoch 19/100\n",
            "484/484 [==============================] - 13s 27ms/step - loss: 5.9010 - accuracy: 0.0480\n",
            "Epoch 20/100\n",
            "484/484 [==============================] - 13s 27ms/step - loss: 5.8734 - accuracy: 0.0508\n",
            "Epoch 21/100\n",
            "484/484 [==============================] - 13s 27ms/step - loss: 5.8654 - accuracy: 0.0500\n",
            "Epoch 22/100\n",
            "484/484 [==============================] - 13s 27ms/step - loss: 5.8736 - accuracy: 0.0515\n",
            "Epoch 23/100\n",
            "484/484 [==============================] - 13s 27ms/step - loss: 5.8510 - accuracy: 0.0519\n",
            "Epoch 24/100\n",
            "484/484 [==============================] - 13s 27ms/step - loss: 5.8343 - accuracy: 0.0527\n",
            "Epoch 25/100\n",
            "484/484 [==============================] - 13s 27ms/step - loss: 5.8144 - accuracy: 0.0515\n",
            "Epoch 26/100\n",
            "484/484 [==============================] - 13s 27ms/step - loss: 5.7983 - accuracy: 0.0547\n",
            "Epoch 27/100\n",
            "484/484 [==============================] - 13s 28ms/step - loss: 5.7817 - accuracy: 0.0515\n",
            "Epoch 28/100\n",
            "484/484 [==============================] - 14s 28ms/step - loss: 5.7647 - accuracy: 0.0548\n",
            "Epoch 29/100\n",
            "484/484 [==============================] - 13s 27ms/step - loss: 5.7582 - accuracy: 0.0563\n",
            "Epoch 30/100\n",
            "484/484 [==============================] - 13s 27ms/step - loss: 5.7409 - accuracy: 0.0545\n",
            "Epoch 31/100\n",
            "484/484 [==============================] - 13s 27ms/step - loss: 5.7427 - accuracy: 0.0557\n",
            "Epoch 32/100\n",
            "484/484 [==============================] - 13s 27ms/step - loss: 5.7176 - accuracy: 0.0581\n",
            "Epoch 33/100\n",
            "484/484 [==============================] - 13s 27ms/step - loss: 5.7264 - accuracy: 0.0567\n",
            "Epoch 34/100\n",
            "484/484 [==============================] - 13s 27ms/step - loss: 5.7233 - accuracy: 0.0563\n",
            "Epoch 35/100\n",
            "484/484 [==============================] - 13s 28ms/step - loss: 5.7065 - accuracy: 0.0589\n",
            "Epoch 36/100\n",
            "484/484 [==============================] - 13s 27ms/step - loss: 5.7059 - accuracy: 0.0573\n",
            "Epoch 37/100\n",
            "484/484 [==============================] - 13s 27ms/step - loss: 5.6874 - accuracy: 0.0605\n",
            "Epoch 38/100\n",
            "484/484 [==============================] - 13s 27ms/step - loss: 5.6829 - accuracy: 0.0603\n",
            "Epoch 39/100\n",
            "484/484 [==============================] - 13s 27ms/step - loss: 5.6836 - accuracy: 0.0604\n",
            "Epoch 40/100\n",
            "484/484 [==============================] - 13s 27ms/step - loss: 5.6725 - accuracy: 0.0610\n",
            "Epoch 41/100\n",
            "484/484 [==============================] - 13s 27ms/step - loss: 5.6692 - accuracy: 0.0598\n",
            "Epoch 42/100\n",
            "484/484 [==============================] - 13s 27ms/step - loss: 5.6575 - accuracy: 0.0610\n",
            "Epoch 43/100\n",
            "484/484 [==============================] - 13s 27ms/step - loss: 5.6517 - accuracy: 0.0613\n",
            "Epoch 44/100\n",
            "484/484 [==============================] - 13s 27ms/step - loss: 5.6524 - accuracy: 0.0627\n",
            "Epoch 45/100\n",
            "484/484 [==============================] - 13s 27ms/step - loss: 5.6493 - accuracy: 0.0612\n",
            "Epoch 46/100\n",
            "484/484 [==============================] - 13s 27ms/step - loss: 5.6383 - accuracy: 0.0603\n",
            "Epoch 47/100\n",
            "484/484 [==============================] - 13s 27ms/step - loss: 5.6333 - accuracy: 0.0612\n",
            "Epoch 48/100\n",
            "484/484 [==============================] - 13s 27ms/step - loss: 5.6294 - accuracy: 0.0612\n",
            "Epoch 49/100\n",
            "484/484 [==============================] - 13s 27ms/step - loss: 5.6328 - accuracy: 0.0638\n",
            "Epoch 50/100\n",
            "484/484 [==============================] - 13s 27ms/step - loss: 5.6196 - accuracy: 0.0633\n",
            "Epoch 51/100\n",
            "484/484 [==============================] - 13s 27ms/step - loss: 5.6238 - accuracy: 0.0618\n",
            "Epoch 52/100\n",
            "484/484 [==============================] - 13s 27ms/step - loss: 5.6214 - accuracy: 0.0633\n",
            "Epoch 53/100\n",
            "484/484 [==============================] - 13s 27ms/step - loss: 5.6098 - accuracy: 0.0624\n",
            "Epoch 54/100\n",
            "484/484 [==============================] - 13s 27ms/step - loss: 5.6056 - accuracy: 0.0631\n",
            "Epoch 55/100\n",
            "484/484 [==============================] - 13s 27ms/step - loss: 5.6096 - accuracy: 0.0634\n",
            "Epoch 56/100\n",
            "484/484 [==============================] - 13s 27ms/step - loss: 5.5973 - accuracy: 0.0627\n",
            "Epoch 57/100\n",
            "484/484 [==============================] - 13s 27ms/step - loss: 5.6037 - accuracy: 0.0644\n",
            "Epoch 58/100\n",
            "484/484 [==============================] - 13s 27ms/step - loss: 5.5946 - accuracy: 0.0635\n",
            "Epoch 59/100\n",
            "484/484 [==============================] - 14s 28ms/step - loss: 5.5961 - accuracy: 0.0642\n",
            "Epoch 60/100\n",
            "484/484 [==============================] - 13s 27ms/step - loss: 5.5965 - accuracy: 0.0619\n",
            "Epoch 61/100\n",
            "484/484 [==============================] - 13s 27ms/step - loss: 5.5858 - accuracy: 0.0649\n",
            "Epoch 62/100\n",
            "484/484 [==============================] - 13s 27ms/step - loss: 5.5925 - accuracy: 0.0632\n",
            "Epoch 63/100\n",
            "484/484 [==============================] - 13s 27ms/step - loss: 5.6057 - accuracy: 0.0634\n",
            "Epoch 64/100\n",
            "484/484 [==============================] - 13s 27ms/step - loss: 5.5878 - accuracy: 0.0640\n",
            "Epoch 65/100\n",
            "484/484 [==============================] - 13s 27ms/step - loss: 5.5698 - accuracy: 0.0641\n",
            "Epoch 66/100\n",
            "484/484 [==============================] - 13s 27ms/step - loss: 5.5946 - accuracy: 0.0633\n",
            "Epoch 67/100\n",
            "484/484 [==============================] - 13s 28ms/step - loss: 5.5747 - accuracy: 0.0656\n",
            "Epoch 68/100\n",
            "484/484 [==============================] - 13s 27ms/step - loss: 5.5739 - accuracy: 0.0637\n",
            "Epoch 69/100\n",
            "484/484 [==============================] - 13s 27ms/step - loss: 5.5677 - accuracy: 0.0635\n",
            "Epoch 70/100\n",
            "484/484 [==============================] - 13s 27ms/step - loss: 5.5694 - accuracy: 0.0629\n",
            "Epoch 71/100\n",
            "484/484 [==============================] - 13s 27ms/step - loss: 5.5616 - accuracy: 0.0647\n",
            "Epoch 72/100\n",
            "484/484 [==============================] - 13s 27ms/step - loss: 5.5853 - accuracy: 0.0640\n",
            "Epoch 73/100\n",
            "484/484 [==============================] - 13s 27ms/step - loss: 5.5689 - accuracy: 0.0625\n",
            "Epoch 74/100\n",
            "484/484 [==============================] - 13s 27ms/step - loss: 5.5743 - accuracy: 0.0641\n",
            "Epoch 75/100\n",
            "484/484 [==============================] - 13s 27ms/step - loss: 5.5610 - accuracy: 0.0658\n",
            "Epoch 76/100\n",
            "484/484 [==============================] - 13s 27ms/step - loss: 5.5713 - accuracy: 0.0646\n",
            "Epoch 77/100\n",
            "484/484 [==============================] - 13s 27ms/step - loss: 5.5802 - accuracy: 0.0654\n",
            "Epoch 78/100\n",
            "484/484 [==============================] - 13s 27ms/step - loss: 5.5644 - accuracy: 0.0644\n",
            "Epoch 79/100\n",
            "484/484 [==============================] - 13s 27ms/step - loss: 5.5709 - accuracy: 0.0650\n",
            "Epoch 80/100\n",
            "484/484 [==============================] - 13s 27ms/step - loss: 5.5717 - accuracy: 0.0638\n",
            "Epoch 81/100\n",
            "484/484 [==============================] - 13s 27ms/step - loss: 5.5602 - accuracy: 0.0641\n",
            "Epoch 82/100\n",
            "484/484 [==============================] - 13s 27ms/step - loss: 5.5803 - accuracy: 0.0654\n",
            "Epoch 83/100\n",
            "484/484 [==============================] - 13s 28ms/step - loss: 5.5663 - accuracy: 0.0651\n",
            "Epoch 84/100\n",
            "484/484 [==============================] - 13s 27ms/step - loss: 5.5793 - accuracy: 0.0648\n",
            "Epoch 85/100\n",
            "484/484 [==============================] - 13s 27ms/step - loss: 5.5607 - accuracy: 0.0660\n",
            "Epoch 86/100\n",
            "484/484 [==============================] - 13s 27ms/step - loss: 5.5748 - accuracy: 0.0661\n",
            "Epoch 87/100\n",
            "484/484 [==============================] - 13s 27ms/step - loss: 5.5662 - accuracy: 0.0665\n",
            "Epoch 88/100\n",
            "484/484 [==============================] - 13s 27ms/step - loss: 5.5635 - accuracy: 0.0686\n",
            "Epoch 89/100\n",
            "484/484 [==============================] - 13s 27ms/step - loss: 5.5746 - accuracy: 0.0665\n",
            "Epoch 90/100\n",
            "484/484 [==============================] - 13s 27ms/step - loss: 5.5706 - accuracy: 0.0644\n",
            "Epoch 91/100\n",
            "484/484 [==============================] - 13s 27ms/step - loss: 5.5498 - accuracy: 0.0671\n",
            "Epoch 92/100\n",
            "484/484 [==============================] - 13s 27ms/step - loss: 5.5706 - accuracy: 0.0660\n",
            "Epoch 93/100\n",
            "484/484 [==============================] - 13s 27ms/step - loss: 5.5541 - accuracy: 0.0675\n",
            "Epoch 94/100\n",
            "484/484 [==============================] - 13s 27ms/step - loss: 5.5695 - accuracy: 0.0665\n",
            "Epoch 95/100\n",
            "484/484 [==============================] - 13s 27ms/step - loss: 5.5840 - accuracy: 0.0636\n",
            "Epoch 96/100\n",
            "484/484 [==============================] - 13s 27ms/step - loss: 5.5718 - accuracy: 0.0660\n",
            "Epoch 97/100\n",
            "484/484 [==============================] - 13s 27ms/step - loss: 5.5573 - accuracy: 0.0664\n",
            "Epoch 98/100\n",
            "484/484 [==============================] - 13s 27ms/step - loss: 5.5667 - accuracy: 0.0646\n",
            "Epoch 99/100\n",
            "484/484 [==============================] - 13s 27ms/step - loss: 5.5518 - accuracy: 0.0655\n",
            "Epoch 100/100\n",
            "484/484 [==============================] - 13s 27ms/step - loss: 5.5453 - accuracy: 0.0665\n"
          ],
          "name": "stdout"
        }
      ]
    },
    {
      "cell_type": "code",
      "metadata": {
        "colab_type": "code",
        "id": "1fXTEO3GJ282",
        "colab": {
          "base_uri": "https://localhost:8080/",
          "height": 545
        },
        "outputId": "ac335938-f11f-49f7-cf87-57e4229d455f"
      },
      "source": [
        "import matplotlib.pyplot as plt\n",
        "acc = history.history['accuracy']\n",
        "loss = history.history['loss']\n",
        "\n",
        "epochs = range(len(acc))\n",
        "\n",
        "plt.plot(epochs, acc, 'b', label='Training accuracy')\n",
        "plt.title('Training accuracy')\n",
        "\n",
        "plt.figure()\n",
        "\n",
        "plt.plot(epochs, loss, 'b', label='Training Loss')\n",
        "plt.title('Training loss')\n",
        "plt.legend()\n",
        "\n",
        "plt.show()"
      ],
      "execution_count": null,
      "outputs": [
        {
          "output_type": "display_data",
          "data": {
            "image/png": "[encoded data removed]",
            "text/plain": [
              "<Figure size 432x288 with 1 Axes>"
            ]
          },
          "metadata": {
            "tags": [],
            "needs_background": "light"
          }
        },
        {
          "output_type": "display_data",
          "data": {
            "image/png": "[encoded data removed]",
            "text/plain": [
              "<Figure size 432x288 with 1 Axes>"
            ]
          },
          "metadata": {
            "tags": [],
            "needs_background": "light"
          }
        }
      ]
    },
    {
      "cell_type": "code",
      "metadata": {
        "colab_type": "code",
        "id": "6Vc6PHgxa6Hm",
        "colab": {
          "base_uri": "https://localhost:8080/",
          "height": 110
        },
        "outputId": "7303e70b-d3e7-4a7f-b52a-3ae8c6dbb449"
      },
      "source": [
        "seed_text = \"Help me Obi Wan Kenobi, you're my only hope\"\n",
        "next_words = 100\n",
        "  \n",
        "for _ in range(next_words):\n",
        "\ttoken_list = tokenizer.texts_to_sequences([seed_text])[0]\n",
        "\ttoken_list = pad_sequences([token_list], maxlen=max_sequence_len-1, padding='pre')\n",
        "\tpredicted = model.predict_classes(token_list, verbose=0)\n",
        "\toutput_word = \"\"\n",
        "\tfor word, index in tokenizer.word_index.items():\n",
        "\t\tif index == predicted:\n",
        "\t\t\toutput_word = word\n",
        "\t\t\tbreak\n",
        "\tseed_text += \" \" + output_word\n",
        "print(seed_text)"
      ],
      "execution_count": null,
      "outputs": [
        {
          "output_type": "stream",
          "text": [
            "WARNING:tensorflow:From <ipython-input-8-622d307fa19a>:7: Sequential.predict_classes (from tensorflow.python.keras.engine.sequential) is deprecated and will be removed after 2021-01-01.\n",
            "Instructions for updating:\n",
            "Please use instead:* `np.argmax(model.predict(x), axis=-1)`,   if your model does multi-class classification   (e.g. if it uses a `softmax` last-layer activation).* `(model.predict(x) > 0.5).astype(\"int32\")`,   if your model does binary classification   (e.g. if it uses a `sigmoid` last-layer activation).\n",
            "Help me Obi Wan Kenobi, you're my only hope world of the art in the art in my love in my love in the art in my love in my love in the art in my love in my love in the art in my love in my love in the art in my love in my love in the art in my love in my love in the art in my love in my love in the art in my love in my love in the art in my love in my love in the art in my love in my love in the art in my love\n"
          ],
          "name": "stdout"
        }
      ]
    },
    {
      "cell_type": "code",
      "metadata": {
        "id": "7ueDiEoYK61A",
        "colab_type": "code",
        "colab": {}
      },
      "source": [
        ""
      ],
      "execution_count": null,
      "outputs": []
    }
  ]
}