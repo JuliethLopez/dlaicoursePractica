{
  "nbformat": 4,
  "nbformat_minor": 0,
  "metadata": {
    "accelerator": "GPU",
    "colab": {
      "name": "Homework 11.ipynb",
      "provenance": [],
      "toc_visible": true,
      "include_colab_link": true
    },
    "kernelspec": {
      "display_name": "Python 3",
      "name": "python3"
    }
  },
  "cells": [
    {
      "cell_type": "markdown",
      "metadata": {
        "id": "view-in-github",
        "colab_type": "text"
      },
      "source": [
        "<a href=\"https://colab.research.google.com/github/JuliethLopez/dlaicoursePractica/blob/master/Homework%2011.ipynb\" target=\"_parent\"><img src=\"https://colab.research.google.com/assets/colab-badge.svg\" alt=\"Open In Colab\"/></a>"
      ]
    },
    {
      "cell_type": "code",
      "metadata": {
        "colab_type": "code",
        "id": "hmA6EzkQJ5jt",
        "colab": {}
      },
      "source": [
        "import json\n",
        "import tensorflow as tf\n",
        "import csv\n",
        "import random\n",
        "import numpy as np\n",
        "\n",
        "from tensorflow.keras.preprocessing.text import Tokenizer\n",
        "from tensorflow.keras.preprocessing.sequence import pad_sequences\n",
        "from tensorflow.keras.utils import to_categorical\n",
        "from tensorflow.keras import regularizers\n",
        "\n",
        "\n",
        "embedding_dim = 100\n",
        "max_length = 16\n",
        "trunc_type='post'\n",
        "padding_type='post'\n",
        "oov_tok = \"<OOV>\"\n",
        "training_size=160000 #Your dataset size here. Experiment using smaller values (i.e. 16000), but don't forget to train on at least 160000 to see the best effects\n",
        "test_portion=.1\n",
        "\n",
        "corpus = []"
      ],
      "execution_count": 1,
      "outputs": []
    },
    {
      "cell_type": "code",
      "metadata": {
        "colab_type": "code",
        "id": "bM0l_dORKqE0",
        "colab": {
          "base_uri": "https://localhost:8080/",
          "height": 220
        },
        "outputId": "c792a6da-4f25-49f2-ab1f-26a8b844af7a"
      },
      "source": [
        "# Note that I cleaned the Stanford dataset to remove LATIN1 encoding to make it easier for Python CSV reader\n",
        "# You can do that yourself with:\n",
        "# iconv -f LATIN1 -t UTF8 training.1600000.processed.noemoticon.csv -o training_cleaned.csv\n",
        "# I then hosted it on my site to make it easier to use in this notebook\n",
        "\n",
        "!wget --no-check-certificate \\\n",
        "    https://storage.googleapis.com/laurencemoroney-blog.appspot.com/training_cleaned.csv \\\n",
        "    -O /tmp/training_cleaned.csv\n",
        "\n",
        "num_sentences = 0\n",
        "\n",
        "with open(\"/tmp/training_cleaned.csv\") as csvfile:\n",
        "    reader = csv.reader(csvfile, delimiter=',')\n",
        "    for row in reader:\n",
        "      # Your Code here. Create list items where the first item is the text, found in row[5], and the second is the label. Note that the label is a '0' or a '4' in the text. When it's the former, make\n",
        "      # your label to be 0, otherwise 1. Keep a count of the number of sentences in num_sentences\n",
        "        list_item=[]\n",
        "        list_item.append(row[5])\n",
        "        this_label=row[0]\n",
        "        # YOUR CODE HERE\n",
        "        if this_label=='0':\n",
        "            list_item.append(0)\n",
        "        else:\n",
        "            list_item.append(1)\n",
        "        num_sentences = num_sentences + 1\n",
        "        corpus.append(list_item)"
      ],
      "execution_count": 2,
      "outputs": [
        {
          "output_type": "stream",
          "text": [
            "--2020-07-27 19:24:10--  https://storage.googleapis.com/laurencemoroney-blog.appspot.com/training_cleaned.csv\n",
            "Resolving storage.googleapis.com (storage.googleapis.com)... 108.177.111.128, 108.177.112.128, 74.125.124.128, ...\n",
            "Connecting to storage.googleapis.com (storage.googleapis.com)|108.177.111.128|:443... connected.\n",
            "HTTP request sent, awaiting response... 200 OK\n",
            "Length: 238942690 (228M) [application/octet-stream]\n",
            "Saving to: ‘/tmp/training_cleaned.csv’\n",
            "\n",
            "/tmp/training_clean 100%[===================>] 227.87M   137MB/s    in 1.7s    \n",
            "\n",
            "2020-07-27 19:24:12 (137 MB/s) - ‘/tmp/training_cleaned.csv’ saved [238942690/238942690]\n",
            "\n"
          ],
          "name": "stdout"
        }
      ]
    },
    {
      "cell_type": "code",
      "metadata": {
        "id": "Q0W3MRFpR6QZ",
        "colab_type": "code",
        "colab": {
          "base_uri": "https://localhost:8080/",
          "height": 183
        },
        "outputId": "c034a50b-30ec-4b15-cfa2-d49bbc0efbd8"
      },
      "source": [
        "corpus[:5]"
      ],
      "execution_count": 3,
      "outputs": [
        {
          "output_type": "execute_result",
          "data": {
            "text/plain": [
              "[[\"@switchfoot http://twitpic.com/2y1zl - Awww, that's a bummer.  You shoulda got David Carr of Third Day to do it. ;D\",\n",
              "  0],\n",
              " [\"is upset that he can't update his Facebook by texting it... and might cry as a result  School today also. Blah!\",\n",
              "  0],\n",
              " ['@Kenichan I dived many times for the ball. Managed to save 50%  The rest go out of bounds',\n",
              "  0],\n",
              " ['my whole body feels itchy and like its on fire ', 0],\n",
              " [\"@nationwideclass no, it's not behaving at all. i'm mad. why am i here? because I can't see you all over there. \",\n",
              "  0]]"
            ]
          },
          "metadata": {
            "tags": []
          },
          "execution_count": 3
        }
      ]
    },
    {
      "cell_type": "code",
      "metadata": {
        "colab_type": "code",
        "id": "3kxblBUjEUX-",
        "colab": {
          "base_uri": "https://localhost:8080/",
          "height": 72
        },
        "outputId": "a8f3cead-f479-4121-d930-c6b8b49543ae"
      },
      "source": [
        "print(num_sentences)\n",
        "print(len(corpus))\n",
        "print(corpus[1])\n",
        "\n",
        "# Expected Output:\n",
        "# 1600000\n",
        "# 1600000\n",
        "# [\"is upset that he can't update his Facebook by texting it... and might cry as a result  School today also. Blah!\", 0]"
      ],
      "execution_count": 4,
      "outputs": [
        {
          "output_type": "stream",
          "text": [
            "1600000\n",
            "1600000\n",
            "[\"is upset that he can't update his Facebook by texting it... and might cry as a result  School today also. Blah!\", 0]\n"
          ],
          "name": "stdout"
        }
      ]
    },
    {
      "cell_type": "code",
      "metadata": {
        "colab_type": "code",
        "id": "ohOGz24lsNAD",
        "colab": {}
      },
      "source": [
        "sentences=[]\n",
        "labels=[]\n",
        "random.shuffle(corpus)\n",
        "for x in range(training_size):\n",
        "    sentences.append(corpus[x][0]) # YOUR CODE HERE\n",
        "    labels.append(corpus[x][1]) # YOUR CODE HERE\n",
        "\n",
        "\n",
        "tokenizer = Tokenizer(oov_token=oov_tok)\n",
        "tokenizer.fit_on_texts(sentences) # YOUR CODE HERE\n",
        "\n",
        "word_index = tokenizer.word_index\n",
        "vocab_size=len(word_index) # YOUR CODE HERE\n",
        "\n",
        "sequences = tokenizer.texts_to_sequences(sentences) # YOUR CODE HERE\n",
        "padded = pad_sequences(sequences, maxlen=max_length, padding=padding_type, truncating=trunc_type) # YOUR CODE HERE\n",
        "\n",
        "split = int(test_portion * training_size)\n",
        "\n",
        "test_sequences = padded[0:split] # YOUR CODE HERE\n",
        "training_sequences = padded[split:training_size] # YOUR CODE HERE\n",
        "test_labels = labels[0:split] # YOUR CODE HERE\n",
        "training_labels = labels[split:training_size] # YOUR CODE HERE"
      ],
      "execution_count": 7,
      "outputs": []
    },
    {
      "cell_type": "code",
      "metadata": {
        "id": "CFr-ekxCewUl",
        "colab_type": "code",
        "colab": {}
      },
      "source": [
        "training_padded = np.array(training_sequences)\n",
        "training_labels = np.array(training_labels)\n",
        "testing_padded = np.array(test_sequences)\n",
        "testing_labels = np.array(test_labels)"
      ],
      "execution_count": 11,
      "outputs": []
    },
    {
      "cell_type": "code",
      "metadata": {
        "colab_type": "code",
        "id": "gIrtRem1En3N",
        "colab": {
          "base_uri": "https://localhost:8080/",
          "height": 54
        },
        "outputId": "27464fbb-1b19-473c-d52a-a43a03794391"
      },
      "source": [
        "print(vocab_size)\n",
        "print(word_index['i'])\n",
        "# Expected Output\n",
        "# 138858\n",
        "# 1"
      ],
      "execution_count": 8,
      "outputs": [
        {
          "output_type": "stream",
          "text": [
            "138819\n",
            "2\n"
          ],
          "name": "stdout"
        }
      ]
    },
    {
      "cell_type": "code",
      "metadata": {
        "colab_type": "code",
        "id": "C1zdgJkusRh0",
        "colab": {
          "base_uri": "https://localhost:8080/",
          "height": 220
        },
        "outputId": "402a7c23-caa4-435b-e19d-a27cb7ad151e"
      },
      "source": [
        "# Note this is the 100 dimension version of GloVe from Stanford\n",
        "# I unzipped and hosted it on my site to make this notebook easier\n",
        "!wget --no-check-certificate \\\n",
        "    https://storage.googleapis.com/laurencemoroney-blog.appspot.com/glove.6B.100d.txt \\\n",
        "    -O /tmp/glove.6B.100d.txt\n",
        "embeddings_index = {};\n",
        "with open('/tmp/glove.6B.100d.txt') as f:\n",
        "    for line in f:\n",
        "        values = line.split();\n",
        "        word = values[0];\n",
        "        coefs = np.asarray(values[1:], dtype='float32');\n",
        "        embeddings_index[word] = coefs;\n",
        "\n",
        "embeddings_matrix = np.zeros((vocab_size+1, embedding_dim));\n",
        "for word, i in word_index.items():\n",
        "    embedding_vector = embeddings_index.get(word);\n",
        "    if embedding_vector is not None:\n",
        "        embeddings_matrix[i] = embedding_vector;"
      ],
      "execution_count": 9,
      "outputs": [
        {
          "output_type": "stream",
          "text": [
            "--2020-07-27 19:24:47--  https://storage.googleapis.com/laurencemoroney-blog.appspot.com/glove.6B.100d.txt\n",
            "Resolving storage.googleapis.com (storage.googleapis.com)... 172.217.212.128, 172.217.214.128, 108.177.111.128, ...\n",
            "Connecting to storage.googleapis.com (storage.googleapis.com)|172.217.212.128|:443... connected.\n",
            "HTTP request sent, awaiting response... 200 OK\n",
            "Length: 347116733 (331M) [text/plain]\n",
            "Saving to: ‘/tmp/glove.6B.100d.txt’\n",
            "\n",
            "/tmp/glove.6B.100d. 100%[===================>] 331.04M   114MB/s    in 2.9s    \n",
            "\n",
            "2020-07-27 19:24:50 (114 MB/s) - ‘/tmp/glove.6B.100d.txt’ saved [347116733/347116733]\n",
            "\n"
          ],
          "name": "stdout"
        }
      ]
    },
    {
      "cell_type": "code",
      "metadata": {
        "colab_type": "code",
        "id": "71NLk_lpFLNt",
        "colab": {
          "base_uri": "https://localhost:8080/",
          "height": 35
        },
        "outputId": "014b7033-6d0e-4497-b4c7-5a33cb0864f3"
      },
      "source": [
        "print(len(embeddings_matrix))\n",
        "# Expected Output\n",
        "# 138859"
      ],
      "execution_count": 10,
      "outputs": [
        {
          "output_type": "stream",
          "text": [
            "138820\n"
          ],
          "name": "stdout"
        }
      ]
    },
    {
      "cell_type": "code",
      "metadata": {
        "colab_type": "code",
        "id": "iKKvbuEBOGFz",
        "colab": {
          "base_uri": "https://localhost:8080/",
          "height": 1000
        },
        "outputId": "1c6554d5-e7e8-4ad6-acd4-ea8e1f9a6be6"
      },
      "source": [
        "model = tf.keras.Sequential([\n",
        "    tf.keras.layers.Embedding(vocab_size+1, embedding_dim, input_length=max_length, weights=[embeddings_matrix], trainable=False),\n",
        "    tf.keras.layers.Dropout(0.2), # YOUR CODE HERE - experiment with combining different types, such as convolutions and LSTMs\n",
        "    #tf.keras.layers.Conv1D(64, 5, activation='relu'),\n",
        "    #tf.keras.layers.GlobalAveragePooling1D(),\n",
        "    #tf.keras.layers.Flatten(),\n",
        "    #tf.keras.layers.MaxPooling1D(pool_size=4),\n",
        "    #tf.keras.layers.LSTM(64),\n",
        "    tf.keras.layers.Bidirectional(tf.keras.layers.LSTM(64)),\n",
        "    tf.keras.layers.Dense(120, activation='relu'),\n",
        "    tf.keras.layers.Dense(1, activation='sigmoid')\n",
        "])\n",
        "model.compile(loss='binary_crossentropy',optimizer='adam',metrics=['accuracy']) # YOUR CODE HERE\n",
        "model.summary()\n",
        "\n",
        "num_epochs = 40\n",
        "history = model.fit(training_padded, training_labels, epochs=num_epochs, validation_data=(testing_padded, testing_labels), verbose=2)\n",
        "\n",
        "print(\"Training Complete\")"
      ],
      "execution_count": 12,
      "outputs": [
        {
          "output_type": "stream",
          "text": [
            "Model: \"sequential\"\n",
            "_________________________________________________________________\n",
            "Layer (type)                 Output Shape              Param #   \n",
            "=================================================================\n",
            "embedding (Embedding)        (None, 16, 100)           13882000  \n",
            "_________________________________________________________________\n",
            "dropout (Dropout)            (None, 16, 100)           0         \n",
            "_________________________________________________________________\n",
            "bidirectional (Bidirectional (None, 128)               84480     \n",
            "_________________________________________________________________\n",
            "dense (Dense)                (None, 120)               15480     \n",
            "_________________________________________________________________\n",
            "dense_1 (Dense)              (None, 1)                 121       \n",
            "=================================================================\n",
            "Total params: 13,982,081\n",
            "Trainable params: 100,081\n",
            "Non-trainable params: 13,882,000\n",
            "_________________________________________________________________\n",
            "Epoch 1/40\n",
            "4500/4500 - 49s - loss: 0.5521 - accuracy: 0.7144 - val_loss: 0.5189 - val_accuracy: 0.7364\n",
            "Epoch 2/40\n",
            "4500/4500 - 48s - loss: 0.5063 - accuracy: 0.7482 - val_loss: 0.4942 - val_accuracy: 0.7574\n",
            "Epoch 3/40\n",
            "4500/4500 - 49s - loss: 0.4863 - accuracy: 0.7622 - val_loss: 0.4837 - val_accuracy: 0.7674\n",
            "Epoch 4/40\n",
            "4500/4500 - 49s - loss: 0.4718 - accuracy: 0.7707 - val_loss: 0.4776 - val_accuracy: 0.7694\n",
            "Epoch 5/40\n",
            "4500/4500 - 49s - loss: 0.4590 - accuracy: 0.7800 - val_loss: 0.4780 - val_accuracy: 0.7673\n",
            "Epoch 6/40\n",
            "4500/4500 - 49s - loss: 0.4479 - accuracy: 0.7851 - val_loss: 0.4732 - val_accuracy: 0.7738\n",
            "Epoch 7/40\n",
            "4500/4500 - 49s - loss: 0.4399 - accuracy: 0.7914 - val_loss: 0.4801 - val_accuracy: 0.7729\n",
            "Epoch 8/40\n",
            "4500/4500 - 49s - loss: 0.4310 - accuracy: 0.7963 - val_loss: 0.4805 - val_accuracy: 0.7753\n",
            "Epoch 9/40\n",
            "4500/4500 - 49s - loss: 0.4243 - accuracy: 0.8004 - val_loss: 0.4795 - val_accuracy: 0.7753\n",
            "Epoch 10/40\n",
            "4500/4500 - 49s - loss: 0.4169 - accuracy: 0.8038 - val_loss: 0.4870 - val_accuracy: 0.7706\n",
            "Epoch 11/40\n",
            "4500/4500 - 49s - loss: 0.4105 - accuracy: 0.8074 - val_loss: 0.4886 - val_accuracy: 0.7724\n",
            "Epoch 12/40\n",
            "4500/4500 - 49s - loss: 0.4056 - accuracy: 0.8096 - val_loss: 0.4868 - val_accuracy: 0.7714\n",
            "Epoch 13/40\n",
            "4500/4500 - 49s - loss: 0.4017 - accuracy: 0.8119 - val_loss: 0.5038 - val_accuracy: 0.7707\n",
            "Epoch 14/40\n",
            "4500/4500 - 49s - loss: 0.3965 - accuracy: 0.8150 - val_loss: 0.4970 - val_accuracy: 0.7743\n",
            "Epoch 15/40\n",
            "4500/4500 - 49s - loss: 0.3940 - accuracy: 0.8163 - val_loss: 0.4965 - val_accuracy: 0.7712\n",
            "Epoch 16/40\n",
            "4500/4500 - 49s - loss: 0.3897 - accuracy: 0.8191 - val_loss: 0.5020 - val_accuracy: 0.7691\n",
            "Epoch 17/40\n",
            "4500/4500 - 49s - loss: 0.3872 - accuracy: 0.8202 - val_loss: 0.4949 - val_accuracy: 0.7728\n",
            "Epoch 18/40\n",
            "4500/4500 - 49s - loss: 0.3835 - accuracy: 0.8223 - val_loss: 0.5084 - val_accuracy: 0.7685\n",
            "Epoch 19/40\n",
            "4500/4500 - 49s - loss: 0.3804 - accuracy: 0.8240 - val_loss: 0.5081 - val_accuracy: 0.7704\n",
            "Epoch 20/40\n",
            "4500/4500 - 49s - loss: 0.3781 - accuracy: 0.8265 - val_loss: 0.5128 - val_accuracy: 0.7674\n",
            "Epoch 21/40\n",
            "4500/4500 - 49s - loss: 0.3759 - accuracy: 0.8260 - val_loss: 0.5143 - val_accuracy: 0.7682\n",
            "Epoch 22/40\n",
            "4500/4500 - 49s - loss: 0.3746 - accuracy: 0.8268 - val_loss: 0.5172 - val_accuracy: 0.7667\n",
            "Epoch 23/40\n",
            "4500/4500 - 49s - loss: 0.3710 - accuracy: 0.8287 - val_loss: 0.5155 - val_accuracy: 0.7639\n",
            "Epoch 24/40\n",
            "4500/4500 - 49s - loss: 0.3664 - accuracy: 0.8322 - val_loss: 0.5201 - val_accuracy: 0.7669\n",
            "Epoch 25/40\n",
            "4500/4500 - 49s - loss: 0.3674 - accuracy: 0.8312 - val_loss: 0.5245 - val_accuracy: 0.7659\n",
            "Epoch 26/40\n",
            "4500/4500 - 49s - loss: 0.3656 - accuracy: 0.8326 - val_loss: 0.5271 - val_accuracy: 0.7653\n",
            "Epoch 27/40\n",
            "4500/4500 - 49s - loss: 0.3634 - accuracy: 0.8336 - val_loss: 0.5338 - val_accuracy: 0.7666\n",
            "Epoch 28/40\n",
            "4500/4500 - 50s - loss: 0.3637 - accuracy: 0.8323 - val_loss: 0.5298 - val_accuracy: 0.7663\n",
            "Epoch 29/40\n",
            "4500/4500 - 50s - loss: 0.3619 - accuracy: 0.8344 - val_loss: 0.5338 - val_accuracy: 0.7667\n",
            "Epoch 30/40\n",
            "4500/4500 - 50s - loss: 0.3601 - accuracy: 0.8354 - val_loss: 0.5403 - val_accuracy: 0.7663\n",
            "Epoch 31/40\n",
            "4500/4500 - 49s - loss: 0.3588 - accuracy: 0.8352 - val_loss: 0.5352 - val_accuracy: 0.7612\n",
            "Epoch 32/40\n",
            "4500/4500 - 50s - loss: 0.3584 - accuracy: 0.8360 - val_loss: 0.5411 - val_accuracy: 0.7642\n",
            "Epoch 33/40\n",
            "4500/4500 - 49s - loss: 0.3562 - accuracy: 0.8377 - val_loss: 0.5419 - val_accuracy: 0.7656\n",
            "Epoch 34/40\n",
            "4500/4500 - 50s - loss: 0.3544 - accuracy: 0.8372 - val_loss: 0.5328 - val_accuracy: 0.7651\n",
            "Epoch 35/40\n",
            "4500/4500 - 49s - loss: 0.3543 - accuracy: 0.8386 - val_loss: 0.5534 - val_accuracy: 0.7657\n",
            "Epoch 36/40\n",
            "4500/4500 - 49s - loss: 0.3537 - accuracy: 0.8385 - val_loss: 0.5480 - val_accuracy: 0.7642\n",
            "Epoch 37/40\n",
            "4500/4500 - 50s - loss: 0.3510 - accuracy: 0.8403 - val_loss: 0.5431 - val_accuracy: 0.7638\n",
            "Epoch 38/40\n",
            "4500/4500 - 49s - loss: 0.3514 - accuracy: 0.8402 - val_loss: 0.5532 - val_accuracy: 0.7653\n",
            "Epoch 39/40\n",
            "4500/4500 - 49s - loss: 0.3509 - accuracy: 0.8404 - val_loss: 0.5462 - val_accuracy: 0.7659\n",
            "Epoch 40/40\n",
            "4500/4500 - 50s - loss: 0.3502 - accuracy: 0.8400 - val_loss: 0.5458 - val_accuracy: 0.7635\n",
            "Training Complete\n"
          ],
          "name": "stdout"
        }
      ]
    },
    {
      "cell_type": "code",
      "metadata": {
        "colab_type": "code",
        "id": "qxju4ItJKO8F",
        "colab": {
          "base_uri": "https://localhost:8080/",
          "height": 610
        },
        "outputId": "91310f9c-d9bb-4f56-f975-1668266c5210"
      },
      "source": [
        "import matplotlib.image  as mpimg\n",
        "import matplotlib.pyplot as plt\n",
        "\n",
        "#-----------------------------------------------------------\n",
        "# Retrieve a list of list results on training and test data\n",
        "# sets for each training epoch\n",
        "#-----------------------------------------------------------\n",
        "acc=history.history['accuracy']\n",
        "val_acc=history.history['val_accuracy']\n",
        "loss=history.history['loss']\n",
        "val_loss=history.history['val_loss']\n",
        "\n",
        "epochs=range(len(acc)) # Get number of epochs\n",
        "\n",
        "#------------------------------------------------\n",
        "# Plot training and validation accuracy per epoch\n",
        "#------------------------------------------------\n",
        "plt.plot(epochs, acc, 'r')\n",
        "plt.plot(epochs, val_acc, 'b')\n",
        "plt.title('Training and validation accuracy')\n",
        "plt.xlabel(\"Epochs\")\n",
        "plt.ylabel(\"Accuracy\")\n",
        "plt.legend([\"Accuracy\", \"Validation Accuracy\"])\n",
        "\n",
        "plt.figure()\n",
        "\n",
        "#------------------------------------------------\n",
        "# Plot training and validation loss per epoch\n",
        "#------------------------------------------------\n",
        "plt.plot(epochs, loss, 'r')\n",
        "plt.plot(epochs, val_loss, 'b')\n",
        "plt.title('Training and validation loss')\n",
        "plt.xlabel(\"Epochs\")\n",
        "plt.ylabel(\"Loss\")\n",
        "plt.legend([\"Loss\", \"Validation Loss\"])\n",
        "\n",
        "plt.figure()\n",
        "\n",
        "\n",
        "# Expected Output\n",
        "# A chart where the validation loss does not increase sharply!"
      ],
      "execution_count": 13,
      "outputs": [
        {
          "output_type": "execute_result",
          "data": {
            "text/plain": [
              "<Figure size 432x288 with 0 Axes>"
            ]
          },
          "metadata": {
            "tags": []
          },
          "execution_count": 13
        },
        {
          "output_type": "display_data",
          "data": {
            "image/png": "[encoded data removed]",
            "text/plain": [
              "<Figure size 432x288 with 1 Axes>"
            ]
          },
          "metadata": {
            "tags": [],
            "needs_background": "light"
          }
        },
        {
          "output_type": "display_data",
          "data": {
            "image/png": "[encoded data removed]",
            "text/plain": [
              "<Figure size 432x288 with 1 Axes>"
            ]
          },
          "metadata": {
            "tags": [],
            "needs_background": "light"
          }
        },
        {
          "output_type": "display_data",
          "data": {
            "text/plain": [
              "<Figure size 432x288 with 0 Axes>"
            ]
          },
          "metadata": {
            "tags": []
          }
        }
      ]
    },
    {
      "cell_type": "code",
      "metadata": {
        "id": "ybF7f_YLtMvu",
        "colab_type": "code",
        "colab": {
          "base_uri": "https://localhost:8080/",
          "height": 1000
        },
        "outputId": "ef43caca-aecb-4f71-a080-38a702c3d4bf"
      },
      "source": [
        "model = tf.keras.Sequential([\n",
        "    tf.keras.layers.Embedding(vocab_size+1, embedding_dim, input_length=max_length, weights=[embeddings_matrix], trainable=False),\n",
        "    tf.keras.layers.Dropout(0.2), # YOUR CODE HERE - experiment with combining different types, such as convolutions and LSTMs\n",
        "    tf.keras.layers.Conv1D(64, 5, activation='relu'),\n",
        "    #tf.keras.layers.GlobalAveragePooling1D(),\n",
        "    #tf.keras.layers.Flatten(),\n",
        "    #tf.keras.layers.MaxPooling1D(pool_size=4),\n",
        "    #tf.keras.layers.LSTM(64),\n",
        "    tf.keras.layers.Bidirectional(tf.keras.layers.LSTM(64)),\n",
        "    tf.keras.layers.Dense(120, activation='relu'),\n",
        "    tf.keras.layers.Dense(1, activation='sigmoid')\n",
        "])\n",
        "model.compile(loss='binary_crossentropy',optimizer='adam',metrics=['accuracy']) # YOUR CODE HERE\n",
        "model.summary()\n",
        "\n",
        "num_epochs = 40\n",
        "\n",
        "training_padded = np.array(training_sequences)\n",
        "training_labels = np.array(training_labels)\n",
        "testing_padded = np.array(test_sequences)\n",
        "testing_labels = np.array(test_labels)\n",
        "\n",
        "history = model.fit(training_padded, training_labels, epochs=num_epochs, validation_data=(testing_padded, testing_labels), verbose=2)\n",
        "\n",
        "print(\"Training Complete\")"
      ],
      "execution_count": 14,
      "outputs": [
        {
          "output_type": "stream",
          "text": [
            "Model: \"sequential_1\"\n",
            "_________________________________________________________________\n",
            "Layer (type)                 Output Shape              Param #   \n",
            "=================================================================\n",
            "embedding_1 (Embedding)      (None, 16, 100)           13882000  \n",
            "_________________________________________________________________\n",
            "dropout_1 (Dropout)          (None, 16, 100)           0         \n",
            "_________________________________________________________________\n",
            "conv1d (Conv1D)              (None, 12, 64)            32064     \n",
            "_________________________________________________________________\n",
            "bidirectional_1 (Bidirection (None, 128)               66048     \n",
            "_________________________________________________________________\n",
            "dense_2 (Dense)              (None, 120)               15480     \n",
            "_________________________________________________________________\n",
            "dense_3 (Dense)              (None, 1)                 121       \n",
            "=================================================================\n",
            "Total params: 13,995,713\n",
            "Trainable params: 113,713\n",
            "Non-trainable params: 13,882,000\n",
            "_________________________________________________________________\n",
            "Epoch 1/40\n",
            "4500/4500 - 42s - loss: 0.5684 - accuracy: 0.6990 - val_loss: 0.5385 - val_accuracy: 0.7309\n",
            "Epoch 2/40\n",
            "4500/4500 - 41s - loss: 0.5249 - accuracy: 0.7324 - val_loss: 0.5138 - val_accuracy: 0.7436\n",
            "Epoch 3/40\n",
            "4500/4500 - 41s - loss: 0.5076 - accuracy: 0.7472 - val_loss: 0.5101 - val_accuracy: 0.7487\n",
            "Epoch 4/40\n",
            "4500/4500 - 41s - loss: 0.4954 - accuracy: 0.7541 - val_loss: 0.4996 - val_accuracy: 0.7515\n",
            "Epoch 5/40\n",
            "4500/4500 - 41s - loss: 0.4847 - accuracy: 0.7620 - val_loss: 0.4983 - val_accuracy: 0.7520\n",
            "Epoch 6/40\n",
            "4500/4500 - 41s - loss: 0.4755 - accuracy: 0.7679 - val_loss: 0.4981 - val_accuracy: 0.7535\n",
            "Epoch 7/40\n",
            "4500/4500 - 41s - loss: 0.4681 - accuracy: 0.7712 - val_loss: 0.4992 - val_accuracy: 0.7541\n",
            "Epoch 8/40\n",
            "4500/4500 - 41s - loss: 0.4616 - accuracy: 0.7765 - val_loss: 0.4992 - val_accuracy: 0.7574\n",
            "Epoch 9/40\n",
            "4500/4500 - 41s - loss: 0.4546 - accuracy: 0.7805 - val_loss: 0.5042 - val_accuracy: 0.7555\n",
            "Epoch 10/40\n",
            "4500/4500 - 41s - loss: 0.4493 - accuracy: 0.7829 - val_loss: 0.5020 - val_accuracy: 0.7556\n",
            "Epoch 11/40\n",
            "4500/4500 - 41s - loss: 0.4435 - accuracy: 0.7875 - val_loss: 0.5032 - val_accuracy: 0.7546\n",
            "Epoch 12/40\n",
            "4500/4500 - 41s - loss: 0.4386 - accuracy: 0.7896 - val_loss: 0.5103 - val_accuracy: 0.7524\n",
            "Epoch 13/40\n",
            "4500/4500 - 41s - loss: 0.4349 - accuracy: 0.7916 - val_loss: 0.5120 - val_accuracy: 0.7495\n",
            "Epoch 14/40\n",
            "4500/4500 - 41s - loss: 0.4312 - accuracy: 0.7947 - val_loss: 0.5125 - val_accuracy: 0.7478\n",
            "Epoch 15/40\n",
            "4500/4500 - 41s - loss: 0.4274 - accuracy: 0.7947 - val_loss: 0.5232 - val_accuracy: 0.7471\n",
            "Epoch 16/40\n",
            "4500/4500 - 41s - loss: 0.4254 - accuracy: 0.7964 - val_loss: 0.5153 - val_accuracy: 0.7523\n",
            "Epoch 17/40\n",
            "4500/4500 - 41s - loss: 0.4226 - accuracy: 0.7983 - val_loss: 0.5185 - val_accuracy: 0.7527\n",
            "Epoch 18/40\n",
            "4500/4500 - 41s - loss: 0.4213 - accuracy: 0.7998 - val_loss: 0.5167 - val_accuracy: 0.7510\n",
            "Epoch 19/40\n",
            "4500/4500 - 41s - loss: 0.4194 - accuracy: 0.7999 - val_loss: 0.5180 - val_accuracy: 0.7505\n",
            "Epoch 20/40\n",
            "4500/4500 - 41s - loss: 0.4172 - accuracy: 0.8014 - val_loss: 0.5147 - val_accuracy: 0.7547\n",
            "Epoch 21/40\n",
            "4500/4500 - 41s - loss: 0.4162 - accuracy: 0.8021 - val_loss: 0.5192 - val_accuracy: 0.7539\n",
            "Epoch 22/40\n",
            "4500/4500 - 41s - loss: 0.4138 - accuracy: 0.8033 - val_loss: 0.5253 - val_accuracy: 0.7548\n",
            "Epoch 23/40\n",
            "4500/4500 - 41s - loss: 0.4128 - accuracy: 0.8036 - val_loss: 0.5180 - val_accuracy: 0.7517\n",
            "Epoch 24/40\n",
            "4500/4500 - 41s - loss: 0.4104 - accuracy: 0.8055 - val_loss: 0.5319 - val_accuracy: 0.7521\n",
            "Epoch 25/40\n",
            "4500/4500 - 41s - loss: 0.4078 - accuracy: 0.8066 - val_loss: 0.5286 - val_accuracy: 0.7509\n",
            "Epoch 26/40\n",
            "4500/4500 - 41s - loss: 0.4083 - accuracy: 0.8064 - val_loss: 0.5434 - val_accuracy: 0.7479\n",
            "Epoch 27/40\n",
            "4500/4500 - 41s - loss: 0.4069 - accuracy: 0.8069 - val_loss: 0.5307 - val_accuracy: 0.7487\n",
            "Epoch 28/40\n",
            "4500/4500 - 41s - loss: 0.4059 - accuracy: 0.8085 - val_loss: 0.5315 - val_accuracy: 0.7491\n",
            "Epoch 29/40\n",
            "4500/4500 - 41s - loss: 0.4050 - accuracy: 0.8088 - val_loss: 0.5390 - val_accuracy: 0.7482\n",
            "Epoch 30/40\n",
            "4500/4500 - 41s - loss: 0.4026 - accuracy: 0.8108 - val_loss: 0.5496 - val_accuracy: 0.7472\n",
            "Epoch 31/40\n",
            "4500/4500 - 41s - loss: 0.4029 - accuracy: 0.8097 - val_loss: 0.5458 - val_accuracy: 0.7506\n",
            "Epoch 32/40\n",
            "4500/4500 - 41s - loss: 0.4026 - accuracy: 0.8094 - val_loss: 0.5360 - val_accuracy: 0.7463\n",
            "Epoch 33/40\n",
            "4500/4500 - 41s - loss: 0.4016 - accuracy: 0.8095 - val_loss: 0.5425 - val_accuracy: 0.7489\n",
            "Epoch 34/40\n",
            "4500/4500 - 41s - loss: 0.4007 - accuracy: 0.8101 - val_loss: 0.5331 - val_accuracy: 0.7446\n",
            "Epoch 35/40\n",
            "4500/4500 - 41s - loss: 0.4004 - accuracy: 0.8113 - val_loss: 0.5476 - val_accuracy: 0.7458\n",
            "Epoch 36/40\n",
            "4500/4500 - 41s - loss: 0.3981 - accuracy: 0.8122 - val_loss: 0.5407 - val_accuracy: 0.7463\n",
            "Epoch 37/40\n",
            "4500/4500 - 41s - loss: 0.3987 - accuracy: 0.8122 - val_loss: 0.5404 - val_accuracy: 0.7434\n",
            "Epoch 38/40\n",
            "4500/4500 - 41s - loss: 0.3986 - accuracy: 0.8116 - val_loss: 0.5487 - val_accuracy: 0.7446\n",
            "Epoch 39/40\n",
            "4500/4500 - 40s - loss: 0.3977 - accuracy: 0.8126 - val_loss: 0.5448 - val_accuracy: 0.7471\n",
            "Epoch 40/40\n",
            "4500/4500 - 41s - loss: 0.3969 - accuracy: 0.8132 - val_loss: 0.5404 - val_accuracy: 0.7481\n",
            "Training Complete\n"
          ],
          "name": "stdout"
        }
      ]
    },
    {
      "cell_type": "code",
      "metadata": {
        "id": "ZLImHwHCtQ-c",
        "colab_type": "code",
        "colab": {
          "base_uri": "https://localhost:8080/",
          "height": 610
        },
        "outputId": "858c2ef2-7ca6-4697-d873-fba933481422"
      },
      "source": [
        "import matplotlib.image  as mpimg\n",
        "import matplotlib.pyplot as plt\n",
        "\n",
        "#-----------------------------------------------------------\n",
        "# Retrieve a list of list results on training and test data\n",
        "# sets for each training epoch\n",
        "#-----------------------------------------------------------\n",
        "acc=history.history['accuracy']\n",
        "val_acc=history.history['val_accuracy']\n",
        "loss=history.history['loss']\n",
        "val_loss=history.history['val_loss']\n",
        "\n",
        "epochs=range(len(acc)) # Get number of epochs\n",
        "\n",
        "#------------------------------------------------\n",
        "# Plot training and validation accuracy per epoch\n",
        "#------------------------------------------------\n",
        "plt.plot(epochs, acc, 'r')\n",
        "plt.plot(epochs, val_acc, 'b')\n",
        "plt.title('Training and validation accuracy')\n",
        "plt.xlabel(\"Epochs\")\n",
        "plt.ylabel(\"Accuracy\")\n",
        "plt.legend([\"Accuracy\", \"Validation Accuracy\"])\n",
        "\n",
        "plt.figure()\n",
        "\n",
        "#------------------------------------------------\n",
        "# Plot training and validation loss per epoch\n",
        "#------------------------------------------------\n",
        "plt.plot(epochs, loss, 'r')\n",
        "plt.plot(epochs, val_loss, 'b')\n",
        "plt.title('Training and validation loss')\n",
        "plt.xlabel(\"Epochs\")\n",
        "plt.ylabel(\"Loss\")\n",
        "plt.legend([\"Loss\", \"Validation Loss\"])\n",
        "\n",
        "plt.figure()\n",
        "\n",
        "\n",
        "# Expected Output\n",
        "# A chart where the validation loss does not increase sharply!"
      ],
      "execution_count": 15,
      "outputs": [
        {
          "output_type": "execute_result",
          "data": {
            "text/plain": [
              "<Figure size 432x288 with 0 Axes>"
            ]
          },
          "metadata": {
            "tags": []
          },
          "execution_count": 15
        },
        {
          "output_type": "display_data",
          "data": {
            "image/png": "[encoded data removed]",
            "text/plain": [
              "<Figure size 432x288 with 1 Axes>"
            ]
          },
          "metadata": {
            "tags": [],
            "needs_background": "light"
          }
        },
        {
          "output_type": "display_data",
          "data": {
            "image/png": "[encoded data removed]",
            "text/plain": [
              "<Figure size 432x288 with 1 Axes>"
            ]
          },
          "metadata": {
            "tags": [],
            "needs_background": "light"
          }
        },
        {
          "output_type": "display_data",
          "data": {
            "text/plain": [
              "<Figure size 432x288 with 0 Axes>"
            ]
          },
          "metadata": {
            "tags": []
          }
        }
      ]
    },
    {
      "cell_type": "code",
      "metadata": {
        "id": "MT6Oz7jPtDKT",
        "colab_type": "code",
        "colab": {
          "base_uri": "https://localhost:8080/",
          "height": 1000
        },
        "outputId": "00d5fee7-829b-440d-e42e-b97753c091e5"
      },
      "source": [
        "model = tf.keras.Sequential([\n",
        "    tf.keras.layers.Embedding(vocab_size+1, embedding_dim, input_length=max_length, weights=[embeddings_matrix], trainable=False),\n",
        "    tf.keras.layers.Dropout(0.2),\n",
        "    tf.keras.layers.Conv1D(64, 5, activation='relu'),\n",
        "    tf.keras.layers.MaxPooling1D(pool_size=4),\n",
        "    tf.keras.layers.LSTM(64),\n",
        "    tf.keras.layers.Dense(1, activation='sigmoid')\n",
        "])\n",
        "model.compile(loss='binary_crossentropy',optimizer='adam',metrics=['accuracy'])\n",
        "model.summary()\n",
        "\n",
        "num_epochs = 40\n",
        "\n",
        "training_padded = np.array(training_sequences)\n",
        "training_labels = np.array(training_labels)\n",
        "testing_padded = np.array(test_sequences)\n",
        "testing_labels = np.array(test_labels)\n",
        "\n",
        "history = model.fit(training_padded, training_labels, epochs=num_epochs, validation_data=(testing_padded, testing_labels), verbose=2)\n",
        "\n",
        "print(\"Training Complete\")"
      ],
      "execution_count": 16,
      "outputs": [
        {
          "output_type": "stream",
          "text": [
            "Model: \"sequential_2\"\n",
            "_________________________________________________________________\n",
            "Layer (type)                 Output Shape              Param #   \n",
            "=================================================================\n",
            "embedding_2 (Embedding)      (None, 16, 100)           13882000  \n",
            "_________________________________________________________________\n",
            "dropout_2 (Dropout)          (None, 16, 100)           0         \n",
            "_________________________________________________________________\n",
            "conv1d_1 (Conv1D)            (None, 12, 64)            32064     \n",
            "_________________________________________________________________\n",
            "max_pooling1d (MaxPooling1D) (None, 3, 64)             0         \n",
            "_________________________________________________________________\n",
            "lstm_2 (LSTM)                (None, 64)                33024     \n",
            "_________________________________________________________________\n",
            "dense_4 (Dense)              (None, 1)                 65        \n",
            "=================================================================\n",
            "Total params: 13,947,153\n",
            "Trainable params: 65,153\n",
            "Non-trainable params: 13,882,000\n",
            "_________________________________________________________________\n",
            "Epoch 1/40\n",
            "4500/4500 - 20s - loss: 0.5682 - accuracy: 0.6970 - val_loss: 0.5271 - val_accuracy: 0.7342\n",
            "Epoch 2/40\n",
            "4500/4500 - 20s - loss: 0.5263 - accuracy: 0.7324 - val_loss: 0.5297 - val_accuracy: 0.7333\n",
            "Epoch 3/40\n",
            "4500/4500 - 21s - loss: 0.5095 - accuracy: 0.7446 - val_loss: 0.5093 - val_accuracy: 0.7444\n",
            "Epoch 4/40\n",
            "4500/4500 - 20s - loss: 0.4986 - accuracy: 0.7527 - val_loss: 0.5075 - val_accuracy: 0.7462\n",
            "Epoch 5/40\n",
            "4500/4500 - 20s - loss: 0.4901 - accuracy: 0.7582 - val_loss: 0.5031 - val_accuracy: 0.7526\n",
            "Epoch 6/40\n",
            "4500/4500 - 20s - loss: 0.4829 - accuracy: 0.7626 - val_loss: 0.5013 - val_accuracy: 0.7514\n",
            "Epoch 7/40\n",
            "4500/4500 - 21s - loss: 0.4769 - accuracy: 0.7659 - val_loss: 0.5083 - val_accuracy: 0.7453\n",
            "Epoch 8/40\n",
            "4500/4500 - 20s - loss: 0.4705 - accuracy: 0.7710 - val_loss: 0.5036 - val_accuracy: 0.7502\n",
            "Epoch 9/40\n",
            "4500/4500 - 20s - loss: 0.4666 - accuracy: 0.7731 - val_loss: 0.5021 - val_accuracy: 0.7556\n",
            "Epoch 10/40\n",
            "4500/4500 - 20s - loss: 0.4628 - accuracy: 0.7746 - val_loss: 0.5160 - val_accuracy: 0.7454\n",
            "Epoch 11/40\n",
            "4500/4500 - 20s - loss: 0.4606 - accuracy: 0.7765 - val_loss: 0.5096 - val_accuracy: 0.7492\n",
            "Epoch 12/40\n",
            "4500/4500 - 20s - loss: 0.4565 - accuracy: 0.7797 - val_loss: 0.5142 - val_accuracy: 0.7497\n",
            "Epoch 13/40\n",
            "4500/4500 - 20s - loss: 0.4543 - accuracy: 0.7802 - val_loss: 0.5046 - val_accuracy: 0.7531\n",
            "Epoch 14/40\n",
            "4500/4500 - 20s - loss: 0.4500 - accuracy: 0.7835 - val_loss: 0.5073 - val_accuracy: 0.7516\n",
            "Epoch 15/40\n",
            "4500/4500 - 20s - loss: 0.4494 - accuracy: 0.7840 - val_loss: 0.5044 - val_accuracy: 0.7538\n",
            "Epoch 16/40\n",
            "4500/4500 - 20s - loss: 0.4484 - accuracy: 0.7849 - val_loss: 0.5082 - val_accuracy: 0.7498\n",
            "Epoch 17/40\n",
            "4500/4500 - 20s - loss: 0.4453 - accuracy: 0.7860 - val_loss: 0.5091 - val_accuracy: 0.7494\n",
            "Epoch 18/40\n",
            "4500/4500 - 20s - loss: 0.4455 - accuracy: 0.7859 - val_loss: 0.5111 - val_accuracy: 0.7501\n",
            "Epoch 19/40\n",
            "4500/4500 - 20s - loss: 0.4417 - accuracy: 0.7887 - val_loss: 0.5108 - val_accuracy: 0.7542\n",
            "Epoch 20/40\n",
            "4500/4500 - 20s - loss: 0.4412 - accuracy: 0.7888 - val_loss: 0.5140 - val_accuracy: 0.7480\n",
            "Epoch 21/40\n",
            "4500/4500 - 20s - loss: 0.4385 - accuracy: 0.7901 - val_loss: 0.5164 - val_accuracy: 0.7524\n",
            "Epoch 22/40\n",
            "4500/4500 - 20s - loss: 0.4398 - accuracy: 0.7883 - val_loss: 0.5093 - val_accuracy: 0.7519\n",
            "Epoch 23/40\n",
            "4500/4500 - 21s - loss: 0.4380 - accuracy: 0.7903 - val_loss: 0.5138 - val_accuracy: 0.7524\n",
            "Epoch 24/40\n",
            "4500/4500 - 20s - loss: 0.4363 - accuracy: 0.7915 - val_loss: 0.5205 - val_accuracy: 0.7451\n",
            "Epoch 25/40\n",
            "4500/4500 - 20s - loss: 0.4353 - accuracy: 0.7925 - val_loss: 0.5272 - val_accuracy: 0.7459\n",
            "Epoch 26/40\n",
            "4500/4500 - 20s - loss: 0.4368 - accuracy: 0.7908 - val_loss: 0.5174 - val_accuracy: 0.7489\n",
            "Epoch 27/40\n",
            "4500/4500 - 20s - loss: 0.4329 - accuracy: 0.7927 - val_loss: 0.5188 - val_accuracy: 0.7491\n",
            "Epoch 28/40\n",
            "4500/4500 - 20s - loss: 0.4325 - accuracy: 0.7935 - val_loss: 0.5168 - val_accuracy: 0.7490\n",
            "Epoch 29/40\n",
            "4500/4500 - 20s - loss: 0.4321 - accuracy: 0.7950 - val_loss: 0.5207 - val_accuracy: 0.7494\n",
            "Epoch 30/40\n",
            "4500/4500 - 20s - loss: 0.4317 - accuracy: 0.7923 - val_loss: 0.5215 - val_accuracy: 0.7485\n",
            "Epoch 31/40\n",
            "4500/4500 - 20s - loss: 0.4314 - accuracy: 0.7947 - val_loss: 0.5181 - val_accuracy: 0.7499\n",
            "Epoch 32/40\n",
            "4500/4500 - 20s - loss: 0.4318 - accuracy: 0.7940 - val_loss: 0.5241 - val_accuracy: 0.7482\n",
            "Epoch 33/40\n",
            "4500/4500 - 21s - loss: 0.4299 - accuracy: 0.7948 - val_loss: 0.5194 - val_accuracy: 0.7486\n",
            "Epoch 34/40\n",
            "4500/4500 - 21s - loss: 0.4303 - accuracy: 0.7945 - val_loss: 0.5219 - val_accuracy: 0.7494\n",
            "Epoch 35/40\n",
            "4500/4500 - 20s - loss: 0.4288 - accuracy: 0.7958 - val_loss: 0.5225 - val_accuracy: 0.7499\n",
            "Epoch 36/40\n",
            "4500/4500 - 20s - loss: 0.4281 - accuracy: 0.7963 - val_loss: 0.5288 - val_accuracy: 0.7498\n",
            "Epoch 37/40\n",
            "4500/4500 - 20s - loss: 0.4280 - accuracy: 0.7962 - val_loss: 0.5246 - val_accuracy: 0.7492\n",
            "Epoch 38/40\n",
            "4500/4500 - 21s - loss: 0.4272 - accuracy: 0.7960 - val_loss: 0.5244 - val_accuracy: 0.7472\n",
            "Epoch 39/40\n",
            "4500/4500 - 20s - loss: 0.4277 - accuracy: 0.7959 - val_loss: 0.5208 - val_accuracy: 0.7494\n",
            "Epoch 40/40\n",
            "4500/4500 - 20s - loss: 0.4273 - accuracy: 0.7961 - val_loss: 0.5276 - val_accuracy: 0.7483\n",
            "Training Complete\n"
          ],
          "name": "stdout"
        }
      ]
    },
    {
      "cell_type": "code",
      "metadata": {
        "id": "K4qz_gHxtD6M",
        "colab_type": "code",
        "colab": {
          "base_uri": "https://localhost:8080/",
          "height": 610
        },
        "outputId": "896c391c-8f42-41af-92d1-7fdda655c4e8"
      },
      "source": [
        "import matplotlib.image  as mpimg\n",
        "import matplotlib.pyplot as plt\n",
        "\n",
        "#-----------------------------------------------------------\n",
        "# Retrieve a list of list results on training and test data\n",
        "# sets for each training epoch\n",
        "#-----------------------------------------------------------\n",
        "acc=history.history['accuracy']\n",
        "val_acc=history.history['val_accuracy']\n",
        "loss=history.history['loss']\n",
        "val_loss=history.history['val_loss']\n",
        "\n",
        "epochs=range(len(acc)) # Get number of epochs\n",
        "\n",
        "#------------------------------------------------\n",
        "# Plot training and validation accuracy per epoch\n",
        "#------------------------------------------------\n",
        "plt.plot(epochs, acc, 'r')\n",
        "plt.plot(epochs, val_acc, 'b')\n",
        "plt.title('Training and validation accuracy')\n",
        "plt.xlabel(\"Epochs\")\n",
        "plt.ylabel(\"Accuracy\")\n",
        "plt.legend([\"Accuracy\", \"Validation Accuracy\"])\n",
        "\n",
        "plt.figure()\n",
        "\n",
        "#------------------------------------------------\n",
        "# Plot training and validation loss per epoch\n",
        "#------------------------------------------------\n",
        "plt.plot(epochs, loss, 'r')\n",
        "plt.plot(epochs, val_loss, 'b')\n",
        "plt.title('Training and validation loss')\n",
        "plt.xlabel(\"Epochs\")\n",
        "plt.ylabel(\"Loss\")\n",
        "plt.legend([\"Loss\", \"Validation Loss\"])\n",
        "\n",
        "plt.figure()\n",
        "\n",
        "\n",
        "# Expected Output\n",
        "# A chart where the validation loss does not increase sharply!"
      ],
      "execution_count": 17,
      "outputs": [
        {
          "output_type": "execute_result",
          "data": {
            "text/plain": [
              "<Figure size 432x288 with 0 Axes>"
            ]
          },
          "metadata": {
            "tags": []
          },
          "execution_count": 17
        },
        {
          "output_type": "display_data",
          "data": {
            "image/png": "[encoded data removed]",
            "text/plain": [
              "<Figure size 432x288 with 1 Axes>"
            ]
          },
          "metadata": {
            "tags": [],
            "needs_background": "light"
          }
        },
        {
          "output_type": "display_data",
          "data": {
            "image/png": "[encoded data removed]",
            "text/plain": [
              "<Figure size 432x288 with 1 Axes>"
            ]
          },
          "metadata": {
            "tags": [],
            "needs_background": "light"
          }
        },
        {
          "output_type": "display_data",
          "data": {
            "text/plain": [
              "<Figure size 432x288 with 0 Axes>"
            ]
          },
          "metadata": {
            "tags": []
          }
        }
      ]
    },
    {
      "cell_type": "code",
      "metadata": {
        "id": "sPJlc27zbjvV",
        "colab_type": "code",
        "colab": {
          "base_uri": "https://localhost:8080/",
          "height": 1000
        },
        "outputId": "36a70b26-79a9-4485-d4d4-f8280db8e483"
      },
      "source": [
        "model = tf.keras.Sequential([\n",
        "    tf.keras.layers.Embedding(vocab_size+1, embedding_dim, input_length=max_length, weights=[embeddings_matrix], trainable=False),\n",
        "    tf.keras.layers.Dropout(0.2), # YOUR CODE HERE - experiment with combining different types, such as convolutions and LSTMs\n",
        "    tf.keras.layers.Conv1D(64, 5, activation='relu'),\n",
        "    tf.keras.layers.MaxPooling1D(pool_size=4),\n",
        "    tf.keras.layers.Bidirectional(tf.keras.layers.LSTM(64)),\n",
        "    tf.keras.layers.Dense(120, activation='relu'),\n",
        "    tf.keras.layers.Dense(1, activation='sigmoid')\n",
        "])\n",
        "\n",
        "model.compile(loss='binary_crossentropy',optimizer='adam',metrics=['accuracy'])\n",
        "model.summary()\n",
        "\n",
        "num_epochs = 40\n",
        "\n",
        "training_padded = np.array(training_sequences)\n",
        "training_labels = np.array(training_labels)\n",
        "testing_padded = np.array(test_sequences)\n",
        "testing_labels = np.array(test_labels)\n",
        "\n",
        "history = model.fit(training_padded, training_labels, epochs=num_epochs, validation_data=(testing_padded, testing_labels), verbose=2)\n",
        "\n",
        "print(\"Training Complete\")"
      ],
      "execution_count": 18,
      "outputs": [
        {
          "output_type": "stream",
          "text": [
            "Model: \"sequential_3\"\n",
            "_________________________________________________________________\n",
            "Layer (type)                 Output Shape              Param #   \n",
            "=================================================================\n",
            "embedding_3 (Embedding)      (None, 16, 100)           13882000  \n",
            "_________________________________________________________________\n",
            "dropout_3 (Dropout)          (None, 16, 100)           0         \n",
            "_________________________________________________________________\n",
            "conv1d_2 (Conv1D)            (None, 12, 64)            32064     \n",
            "_________________________________________________________________\n",
            "max_pooling1d_1 (MaxPooling1 (None, 3, 64)             0         \n",
            "_________________________________________________________________\n",
            "bidirectional_2 (Bidirection (None, 128)               66048     \n",
            "_________________________________________________________________\n",
            "dense_5 (Dense)              (None, 120)               15480     \n",
            "_________________________________________________________________\n",
            "dense_6 (Dense)              (None, 1)                 121       \n",
            "=================================================================\n",
            "Total params: 13,995,713\n",
            "Trainable params: 113,713\n",
            "Non-trainable params: 13,882,000\n",
            "_________________________________________________________________\n",
            "Epoch 1/40\n",
            "4500/4500 - 31s - loss: 0.5683 - accuracy: 0.6969 - val_loss: 0.5246 - val_accuracy: 0.7328\n",
            "Epoch 2/40\n",
            "4500/4500 - 30s - loss: 0.5269 - accuracy: 0.7321 - val_loss: 0.5129 - val_accuracy: 0.7421\n",
            "Epoch 3/40\n",
            "4500/4500 - 30s - loss: 0.5108 - accuracy: 0.7441 - val_loss: 0.5073 - val_accuracy: 0.7467\n",
            "Epoch 4/40\n",
            "4500/4500 - 31s - loss: 0.5002 - accuracy: 0.7513 - val_loss: 0.5037 - val_accuracy: 0.7498\n",
            "Epoch 5/40\n",
            "4500/4500 - 31s - loss: 0.4910 - accuracy: 0.7560 - val_loss: 0.5004 - val_accuracy: 0.7514\n",
            "Epoch 6/40\n",
            "4500/4500 - 32s - loss: 0.4823 - accuracy: 0.7630 - val_loss: 0.5034 - val_accuracy: 0.7483\n",
            "Epoch 7/40\n",
            "4500/4500 - 31s - loss: 0.4756 - accuracy: 0.7669 - val_loss: 0.5032 - val_accuracy: 0.7485\n",
            "Epoch 8/40\n",
            "4500/4500 - 31s - loss: 0.4696 - accuracy: 0.7710 - val_loss: 0.5032 - val_accuracy: 0.7513\n",
            "Epoch 9/40\n",
            "4500/4500 - 32s - loss: 0.4643 - accuracy: 0.7728 - val_loss: 0.5064 - val_accuracy: 0.7497\n",
            "Epoch 10/40\n",
            "4500/4500 - 31s - loss: 0.4603 - accuracy: 0.7768 - val_loss: 0.5089 - val_accuracy: 0.7483\n",
            "Epoch 11/40\n",
            "4500/4500 - 31s - loss: 0.4566 - accuracy: 0.7788 - val_loss: 0.5058 - val_accuracy: 0.7500\n",
            "Epoch 12/40\n",
            "4500/4500 - 31s - loss: 0.4534 - accuracy: 0.7805 - val_loss: 0.5133 - val_accuracy: 0.7514\n",
            "Epoch 13/40\n",
            "4500/4500 - 31s - loss: 0.4494 - accuracy: 0.7822 - val_loss: 0.5079 - val_accuracy: 0.7526\n",
            "Epoch 14/40\n",
            "4500/4500 - 31s - loss: 0.4467 - accuracy: 0.7839 - val_loss: 0.5090 - val_accuracy: 0.7531\n",
            "Epoch 15/40\n",
            "4500/4500 - 32s - loss: 0.4448 - accuracy: 0.7857 - val_loss: 0.5063 - val_accuracy: 0.7536\n",
            "Epoch 16/40\n",
            "4500/4500 - 32s - loss: 0.4420 - accuracy: 0.7870 - val_loss: 0.5169 - val_accuracy: 0.7477\n",
            "Epoch 17/40\n",
            "4500/4500 - 32s - loss: 0.4399 - accuracy: 0.7884 - val_loss: 0.5194 - val_accuracy: 0.7519\n",
            "Epoch 18/40\n",
            "4500/4500 - 31s - loss: 0.4380 - accuracy: 0.7892 - val_loss: 0.5207 - val_accuracy: 0.7456\n",
            "Epoch 19/40\n",
            "4500/4500 - 32s - loss: 0.4368 - accuracy: 0.7902 - val_loss: 0.5206 - val_accuracy: 0.7493\n",
            "Epoch 20/40\n",
            "4500/4500 - 31s - loss: 0.4353 - accuracy: 0.7899 - val_loss: 0.5153 - val_accuracy: 0.7527\n",
            "Epoch 21/40\n",
            "4500/4500 - 31s - loss: 0.4330 - accuracy: 0.7914 - val_loss: 0.5229 - val_accuracy: 0.7488\n",
            "Epoch 22/40\n",
            "4500/4500 - 31s - loss: 0.4311 - accuracy: 0.7940 - val_loss: 0.5332 - val_accuracy: 0.7492\n",
            "Epoch 23/40\n",
            "4500/4500 - 31s - loss: 0.4308 - accuracy: 0.7940 - val_loss: 0.5234 - val_accuracy: 0.7498\n",
            "Epoch 24/40\n",
            "4500/4500 - 31s - loss: 0.4301 - accuracy: 0.7940 - val_loss: 0.5225 - val_accuracy: 0.7484\n",
            "Epoch 25/40\n",
            "4500/4500 - 32s - loss: 0.4287 - accuracy: 0.7944 - val_loss: 0.5241 - val_accuracy: 0.7536\n",
            "Epoch 26/40\n",
            "4500/4500 - 31s - loss: 0.4259 - accuracy: 0.7963 - val_loss: 0.5192 - val_accuracy: 0.7527\n",
            "Epoch 27/40\n",
            "4500/4500 - 31s - loss: 0.4254 - accuracy: 0.7976 - val_loss: 0.5305 - val_accuracy: 0.7539\n",
            "Epoch 28/40\n",
            "4500/4500 - 32s - loss: 0.4253 - accuracy: 0.7966 - val_loss: 0.5244 - val_accuracy: 0.7508\n",
            "Epoch 29/40\n",
            "4500/4500 - 31s - loss: 0.4239 - accuracy: 0.7976 - val_loss: 0.5283 - val_accuracy: 0.7491\n",
            "Epoch 30/40\n",
            "4500/4500 - 31s - loss: 0.4227 - accuracy: 0.7975 - val_loss: 0.5379 - val_accuracy: 0.7469\n",
            "Epoch 31/40\n",
            "4500/4500 - 31s - loss: 0.4236 - accuracy: 0.7978 - val_loss: 0.5248 - val_accuracy: 0.7524\n",
            "Epoch 32/40\n",
            "4500/4500 - 31s - loss: 0.4226 - accuracy: 0.7981 - val_loss: 0.5195 - val_accuracy: 0.7489\n",
            "Epoch 33/40\n",
            "4500/4500 - 31s - loss: 0.4202 - accuracy: 0.7997 - val_loss: 0.5292 - val_accuracy: 0.7504\n",
            "Epoch 34/40\n",
            "4500/4500 - 31s - loss: 0.4206 - accuracy: 0.7999 - val_loss: 0.5292 - val_accuracy: 0.7484\n",
            "Epoch 35/40\n",
            "4500/4500 - 31s - loss: 0.4183 - accuracy: 0.8013 - val_loss: 0.5258 - val_accuracy: 0.7475\n",
            "Epoch 36/40\n",
            "4500/4500 - 31s - loss: 0.4189 - accuracy: 0.8008 - val_loss: 0.5277 - val_accuracy: 0.7470\n",
            "Epoch 37/40\n",
            "4500/4500 - 31s - loss: 0.4191 - accuracy: 0.7992 - val_loss: 0.5405 - val_accuracy: 0.7477\n",
            "Epoch 38/40\n",
            "4500/4500 - 31s - loss: 0.4183 - accuracy: 0.8014 - val_loss: 0.5308 - val_accuracy: 0.7442\n",
            "Epoch 39/40\n",
            "4500/4500 - 31s - loss: 0.4183 - accuracy: 0.8011 - val_loss: 0.5325 - val_accuracy: 0.7490\n",
            "Epoch 40/40\n",
            "4500/4500 - 31s - loss: 0.4166 - accuracy: 0.8024 - val_loss: 0.5355 - val_accuracy: 0.7454\n",
            "Training Complete\n"
          ],
          "name": "stdout"
        }
      ]
    },
    {
      "cell_type": "code",
      "metadata": {
        "id": "TLNv8cK7tHtK",
        "colab_type": "code",
        "colab": {
          "base_uri": "https://localhost:8080/",
          "height": 610
        },
        "outputId": "6ec939a6-8acc-4bc3-ec07-e76845d27837"
      },
      "source": [
        "import matplotlib.image  as mpimg\n",
        "import matplotlib.pyplot as plt\n",
        "\n",
        "#-----------------------------------------------------------\n",
        "# Retrieve a list of list results on training and test data\n",
        "# sets for each training epoch\n",
        "#-----------------------------------------------------------\n",
        "acc=history.history['accuracy']\n",
        "val_acc=history.history['val_accuracy']\n",
        "loss=history.history['loss']\n",
        "val_loss=history.history['val_loss']\n",
        "\n",
        "epochs=range(len(acc)) # Get number of epochs\n",
        "\n",
        "#------------------------------------------------\n",
        "# Plot training and validation accuracy per epoch\n",
        "#------------------------------------------------\n",
        "plt.plot(epochs, acc, 'r')\n",
        "plt.plot(epochs, val_acc, 'b')\n",
        "plt.title('Training and validation accuracy')\n",
        "plt.xlabel(\"Epochs\")\n",
        "plt.ylabel(\"Accuracy\")\n",
        "plt.legend([\"Accuracy\", \"Validation Accuracy\"])\n",
        "\n",
        "plt.figure()\n",
        "\n",
        "#------------------------------------------------\n",
        "# Plot training and validation loss per epoch\n",
        "#------------------------------------------------\n",
        "plt.plot(epochs, loss, 'r')\n",
        "plt.plot(epochs, val_loss, 'b')\n",
        "plt.title('Training and validation loss')\n",
        "plt.xlabel(\"Epochs\")\n",
        "plt.ylabel(\"Loss\")\n",
        "plt.legend([\"Loss\", \"Validation Loss\"])\n",
        "\n",
        "plt.figure()\n",
        "\n",
        "\n",
        "# Expected Output\n",
        "# A chart where the validation loss does not increase sharply!"
      ],
      "execution_count": 19,
      "outputs": [
        {
          "output_type": "execute_result",
          "data": {
            "text/plain": [
              "<Figure size 432x288 with 0 Axes>"
            ]
          },
          "metadata": {
            "tags": []
          },
          "execution_count": 19
        },
        {
          "output_type": "display_data",
          "data": {
            "image/png": "[encoded data removed]",
            "text/plain": [
              "<Figure size 432x288 with 1 Axes>"
            ]
          },
          "metadata": {
            "tags": [],
            "needs_background": "light"
          }
        },
        {
          "output_type": "display_data",
          "data": {
            "image/png": "[encoded data removed]",
            "text/plain": [
              "<Figure size 432x288 with 1 Axes>"
            ]
          },
          "metadata": {
            "tags": [],
            "needs_background": "light"
          }
        },
        {
          "output_type": "display_data",
          "data": {
            "text/plain": [
              "<Figure size 432x288 with 0 Axes>"
            ]
          },
          "metadata": {
            "tags": []
          }
        }
      ]
    },
    {
      "cell_type": "code",
      "metadata": {
        "id": "EpnLdFySvWNT",
        "colab_type": "code",
        "colab": {}
      },
      "source": [
        ""
      ],
      "execution_count": null,
      "outputs": []
    }
  ]
}